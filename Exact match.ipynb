{
 "cells": [
  {
   "cell_type": "code",
   "execution_count": 1345,
   "id": "a53009e9",
   "metadata": {},
   "outputs": [],
   "source": [
    "import numpy as np\n",
    "import pandas as pd\n",
    "import json"
   ]
  },
  {
   "cell_type": "code",
   "execution_count": 1346,
   "id": "fe540f86",
   "metadata": {},
   "outputs": [],
   "source": [
    "# with open('./checkpoint-path/ema_0.9999_004000.pt.samples/seed105_step0.json', 'r') as json_file:\n",
    "#     json_list = list(json_file)\n",
    "with open('./checkpoint-path/model04000.samples/seed105_step0.json', 'r') as json_file:\n",
    "    json_list = list(json_file)"
   ]
  },
  {
   "cell_type": "code",
   "execution_count": 1347,
   "id": "f364cc9c",
   "metadata": {},
   "outputs": [],
   "source": [
    "data = pd.DataFrame({'pred': [json.loads(i)[\"recover\"] for i in json_list], 'target': [json.loads(i)[\"reference\"] for i in json_list], 'source': [json.loads(i)[\"source\"] for i in json_list]})"
   ]
  },
  {
   "cell_type": "code",
   "execution_count": 1348,
   "id": "ddd16020",
   "metadata": {},
   "outputs": [
    {
     "data": {
      "text/plain": [
       "176"
      ]
     },
     "execution_count": 1348,
     "metadata": {},
     "output_type": "execute_result"
    }
   ],
   "source": [
    "len(data)"
   ]
  },
  {
   "cell_type": "code",
   "execution_count": 1349,
   "id": "d8cfbd58",
   "metadata": {},
   "outputs": [],
   "source": [
    "# data = data.iloc[:576]"
   ]
  },
  {
   "cell_type": "code",
   "execution_count": 1350,
   "id": "f317dd85",
   "metadata": {},
   "outputs": [
    {
     "data": {
      "text/plain": [
       "0.5511363636363636"
      ]
     },
     "execution_count": 1350,
     "metadata": {},
     "output_type": "execute_result"
    }
   ],
   "source": [
    "(data['pred'] == data['target']).mean()"
   ]
  },
  {
   "cell_type": "code",
   "execution_count": 1329,
   "id": "874ecc8e",
   "metadata": {},
   "outputs": [
    {
     "data": {
      "text/plain": [
       "0.5640346408558329"
      ]
     },
     "execution_count": 1329,
     "metadata": {},
     "output_type": "execute_result"
    }
   ],
   "source": [
    "(data['pred'] == data['target']).mean()"
   ]
  },
  {
   "cell_type": "code",
   "execution_count": 495,
   "id": "009d2022",
   "metadata": {},
   "outputs": [
    {
     "data": {
      "text/plain": [
       "12.266666666666667"
      ]
     },
     "execution_count": 495,
     "metadata": {},
     "output_type": "execute_result"
    }
   ],
   "source": [
    "data['target'][data['pred'] != data['target']].apply(lambda x : len(x.split())).mean()"
   ]
  },
  {
   "cell_type": "code",
   "execution_count": 496,
   "id": "f1abb75a",
   "metadata": {},
   "outputs": [
    {
     "data": {
      "text/plain": [
       "11.666666666666666"
      ]
     },
     "execution_count": 496,
     "metadata": {},
     "output_type": "execute_result"
    }
   ],
   "source": [
    "data['pred'][data['pred'] != data['target']].apply(lambda x : len(x.split())).mean()"
   ]
  },
  {
   "cell_type": "code",
   "execution_count": 497,
   "id": "75db6f8e",
   "metadata": {},
   "outputs": [
    {
     "data": {
      "text/plain": [
       "array([], dtype=object)"
      ]
     },
     "execution_count": 497,
     "metadata": {},
     "output_type": "execute_result"
    }
   ],
   "source": [
    "data['target'][data['pred'] != data['target']].iloc[20:30].values"
   ]
  },
  {
   "cell_type": "code",
   "execution_count": 498,
   "id": "52779b76",
   "metadata": {},
   "outputs": [
    {
     "data": {
      "text/plain": [
       "array([], dtype=object)"
      ]
     },
     "execution_count": 498,
     "metadata": {},
     "output_type": "execute_result"
    }
   ],
   "source": [
    "data['pred'][data['pred'] != data['target']].iloc[20:30].values"
   ]
  },
  {
   "cell_type": "code",
   "execution_count": 499,
   "id": "1085d831",
   "metadata": {},
   "outputs": [
    {
     "data": {
      "text/plain": [
       "14.294117647058824"
      ]
     },
     "execution_count": 499,
     "metadata": {},
     "output_type": "execute_result"
    }
   ],
   "source": [
    "data['target'][data['pred'] == data['target']].apply(lambda x : len(x.split())).mean()"
   ]
  },
  {
   "cell_type": "code",
   "execution_count": 369,
   "id": "d51e6718",
   "metadata": {},
   "outputs": [],
   "source": [
    "with open('./datasets/SparQL/src-english_train_split.txt', 'r', encoding='utf8') as f:\n",
    "    src = f.read()\n",
    "with open('./datasets/SparQL/src-english_dev_split.txt', 'r', encoding='utf8') as f:\n",
    "    src_1 = f.read()\n",
    "with open('./datasets/SparQL/src-english_test_split.txt', 'r', encoding='utf8') as f:\n",
    "    src_2 = f.read()"
   ]
  },
  {
   "cell_type": "code",
   "execution_count": 284,
   "id": "e44910d3",
   "metadata": {},
   "outputs": [
    {
     "data": {
      "text/plain": [
       "33347"
      ]
     },
     "execution_count": 284,
     "metadata": {},
     "output_type": "execute_result"
    }
   ],
   "source": [
    "len(set(src.replace('\\n', ' ').replace('?', '').split()))"
   ]
  },
  {
   "cell_type": "code",
   "execution_count": 109,
   "id": "e8e46013",
   "metadata": {},
   "outputs": [
    {
     "data": {
      "text/plain": [
       "17699"
      ]
     },
     "execution_count": 109,
     "metadata": {},
     "output_type": "execute_result"
    }
   ],
   "source": [
    "len(set(src_1.replace('\\n', ' ').replace('?', '').split()))"
   ]
  },
  {
   "cell_type": "code",
   "execution_count": 110,
   "id": "30e43596",
   "metadata": {},
   "outputs": [
    {
     "data": {
      "text/plain": [
       "17677"
      ]
     },
     "execution_count": 110,
     "metadata": {},
     "output_type": "execute_result"
    }
   ],
   "source": [
    "len(set(src_2.replace('\\n', ' ').replace('?', '').split()))"
   ]
  },
  {
   "cell_type": "code",
   "execution_count": 111,
   "id": "cc80a72a",
   "metadata": {},
   "outputs": [
    {
     "data": {
      "text/plain": [
       "4733"
      ]
     },
     "execution_count": 111,
     "metadata": {},
     "output_type": "execute_result"
    }
   ],
   "source": [
    "len(set(src_1.replace('\\n', ' ').replace('?', '').split()) - set(src.replace('\\n', ' ').replace('?', '').split()))"
   ]
  },
  {
   "cell_type": "code",
   "execution_count": 88,
   "id": "70598bc4",
   "metadata": {},
   "outputs": [
    {
     "data": {
      "text/plain": [
       "4780"
      ]
     },
     "execution_count": 88,
     "metadata": {},
     "output_type": "execute_result"
    }
   ],
   "source": [
    "len(set(src_2.replace('\\n', ' ').replace('?', '').split()) - set(src.replace('\\n', ' ').replace('?', '').split()))"
   ]
  },
  {
   "cell_type": "code",
   "execution_count": null,
   "id": "2ea2c324",
   "metadata": {},
   "outputs": [],
   "source": []
  }
 ],
 "metadata": {
  "kernelspec": {
   "display_name": "Python 3 (ipykernel)",
   "language": "python",
   "name": "python3"
  },
  "language_info": {
   "codemirror_mode": {
    "name": "ipython",
    "version": 3
   },
   "file_extension": ".py",
   "mimetype": "text/x-python",
   "name": "python",
   "nbconvert_exporter": "python",
   "pygments_lexer": "ipython3",
   "version": "3.10.9"
  }
 },
 "nbformat": 4,
 "nbformat_minor": 5
}
