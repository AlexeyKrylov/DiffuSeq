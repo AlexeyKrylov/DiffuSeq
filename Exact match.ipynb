{
 "cells": [
  {
   "cell_type": "code",
   "execution_count": 133,
   "id": "a53009e9",
   "metadata": {},
   "outputs": [],
   "source": [
    "import numpy as np\n",
    "import pandas as pd\n",
    "import json"
   ]
  },
  {
   "cell_type": "code",
   "execution_count": 134,
   "id": "fe540f86",
   "metadata": {},
   "outputs": [],
   "source": [
    "with open('./checkpoint-path/TestT5-v2/ema_0.999_010000.pt.samples/seed105_step0.json', 'r') as json_file:\n",
    "    json_list = list(json_file)\n",
    "# with open('./checkpoint-path/TestT5-v2/model010000.samples/seed105_step0.json', 'r') as json_file:\n",
    "#     json_list = list(json_file)"
   ]
  },
  {
   "cell_type": "code",
   "execution_count": 135,
   "id": "f364cc9c",
   "metadata": {},
   "outputs": [],
   "source": [
    "data = pd.DataFrame({'pred': [json.loads(i)[\"recover\"] for i in json_list], 'target': [json.loads(i)[\"reference\"] for i in json_list], 'source': [json.loads(i)[\"source\"] for i in json_list]})"
   ]
  },
  {
   "cell_type": "code",
   "execution_count": 136,
   "id": "ddd16020",
   "metadata": {},
   "outputs": [
    {
     "data": {
      "text/plain": [
       "32"
      ]
     },
     "execution_count": 136,
     "metadata": {},
     "output_type": "execute_result"
    }
   ],
   "source": [
    "len(data)"
   ]
  },
  {
   "cell_type": "code",
   "execution_count": 137,
   "id": "d8cfbd58",
   "metadata": {},
   "outputs": [],
   "source": [
    "# data = data.iloc[:576]"
   ]
  },
  {
   "cell_type": "code",
   "execution_count": 138,
   "id": "f317dd85",
   "metadata": {},
   "outputs": [
    {
     "data": {
      "text/plain": [
       "0.5"
      ]
     },
     "execution_count": 138,
     "metadata": {},
     "output_type": "execute_result"
    }
   ],
   "source": [
    "(data['pred'] == data['target']).mean()"
   ]
  },
  {
   "cell_type": "code",
   "execution_count": 139,
   "id": "874ecc8e",
   "metadata": {},
   "outputs": [
    {
     "data": {
      "text/plain": [
       "0.5"
      ]
     },
     "execution_count": 139,
     "metadata": {},
     "output_type": "execute_result"
    }
   ],
   "source": [
    "(data['pred'] == data['target']).mean()"
   ]
  },
  {
   "cell_type": "code",
   "execution_count": 140,
   "id": "009d2022",
   "metadata": {},
   "outputs": [
    {
     "data": {
      "text/plain": [
       "12.6875"
      ]
     },
     "execution_count": 140,
     "metadata": {},
     "output_type": "execute_result"
    }
   ],
   "source": [
    "data['target'][data['pred'] != data['target']].apply(lambda x : len(x.split())).mean()"
   ]
  },
  {
   "cell_type": "code",
   "execution_count": 141,
   "id": "f1abb75a",
   "metadata": {},
   "outputs": [
    {
     "data": {
      "text/plain": [
       "13.5"
      ]
     },
     "execution_count": 141,
     "metadata": {},
     "output_type": "execute_result"
    }
   ],
   "source": [
    "data['pred'][data['pred'] != data['target']].apply(lambda x : len(x.split())).mean()"
   ]
  },
  {
   "cell_type": "code",
   "execution_count": 142,
   "id": "75db6f8e",
   "metadata": {},
   "outputs": [
    {
     "data": {
      "text/plain": [
       "array(['select?SUBJ_1 where {?SUBJ_1 wdt:P31 OBJ_2.?SUBJ_1 wdt:P2160?OBJ_3. } order by desc (?OBJ_3 ) limit NUM_VALUE_1 </s>',\n",
       "       'select?OBJ_4 where { SUBJ_1 p:P39?OBJ_2.?SUBJ_2 ps:P39 OBJ_3.?SUBJ_2 pq:P1366?OBJ_4. } </s>',\n",
       "       'select?OBJ_4 where { SUBJ_1 p:P1082?OBJ_2.?SUBJ_2 ps:P1082?OBJ_3. filter ( contains (?OBJ_3, STR_VALUE_1 ) ).?SUBJ_2 pq:P585?OBJ_4. } </s>',\n",
       "       'select?OBJ_2,?OBJ_3 where { SUBJ_1 wdt:P103?OBJ_2. SUBJ_1 wdt:P27?OBJ_3. } </s>',\n",
       "       'select?SUBJ_1 where {?SUBJ_1 wdt:P31 OBJ_2.?SUBJ_1 wdt:P2160?OBJ_3. } order by desc (?OBJ_3 ) limit NUM_VALUE_1 </s>',\n",
       "       'ask where { SUBJ_1 wdt:P2102?OBJ_2. filter (?OBJ_2 = NUM_VALUE_1 ). } </s>',\n",
       "       'select?OBJ_3 where { SUBJ_1 wdt:P27?OBJ_2.?SUBJ_2 wdt:P530?OBJ_3. } </s>',\n",
       "       'select?OBJ_4 where { SUBJ_1 p:P1082?OBJ_2.?SUBJ_2 ps:P1082?OBJ_3. filter ( contains (?OBJ_3, STR_VALUE_1 ) ).?SUBJ_2 pq:P585?OBJ_4. } </s>',\n",
       "       'select?OBJ_2,?OBJ_3 where { SUBJ_1 wdt:P103?OBJ_2. SUBJ_1 wdt:P27?OBJ_3. } </s>',\n",
       "       'select?SUBJ_1 where {?SUBJ_1 wdt:P31 OBJ_2.?SUBJ_1 wdt:P2160?OBJ_3. } order by desc (?OBJ_3 ) limit NUM_VALUE_1 </s>'],\n",
       "      dtype=object)"
      ]
     },
     "execution_count": 142,
     "metadata": {},
     "output_type": "execute_result"
    }
   ],
   "source": [
    "data['target'][data['pred'] != data['target']].iloc[:10].values"
   ]
  },
  {
   "cell_type": "code",
   "execution_count": 143,
   "id": "52779b76",
   "metadata": {},
   "outputs": [
    {
     "data": {
      "text/plain": [
       "array(['select?SUBJ_1 where {?SUBJ_1 wdt:P31 OBJ_2.?SUBJ_1 wdt:P2160?OBJ_3. } order by desc ( (?OBJ_3?OBJ_3 ) limit NUM_VALUE_1 </s>',\n",
       "       'select?OBJ_4 where { SUBJ_1 p:P39?OBJ_2.?SUBJ_2 ps:P39 OBJ_3.?SUBJ_2 pq:P1366?OBJ_4. } } </s>',\n",
       "       'select?OBJ_4 where { SUBJ_1 p:P1082?OBJ_2.?SUBJ_2 ps:P1082?OBJ_3.?SUBJ_2 pq:P1545 ( lcase ), ) .?SUBJ_2 pq:P585?OBJ_4.?SUBJ_2 pq:P585?OBJ_4 ). } </s>',\n",
       "       'select select?OBJ_2,?OBJ_3 where { SUBJ_1 wdt:P103?OBJ_2. SUBJ_1 wdt:P27?OBJ_3. } </s>',\n",
       "       'select?SUBJ_1 where {?SUBJ_1 wdt:P31 OBJ_2.?SUBJ_1 wdt:P2160?OBJ_3.. } order by desc (?OBJ_3 ) limit NUM_VALUE_1 </s>',\n",
       "       'ask where { SUBJ_1 wdt:P2102?OBJ_2. filter (?OBJ_2 = NUM_VALUE_1 ) . } </s>',\n",
       "       'select?OBJ_3 where { SUBJ_1 wdt:P27?OBJ_2.?SUBJ_2 wdt:P530?OBJ_3?OBJ_3. } </s>',\n",
       "       'select?OBJ_4 where { SUBJ_1 p:P1082?OBJ_2.?SUBJ_2 ps:P1082?OBJ_3. filter ( contains ( lcase?OBJ_3, STR_VALUE_1 ) ).?SUBJ_2 pq:P585?OBJ_4. } </s>',\n",
       "       'select?OBJ_2,?OBJ_3 where { SUBJ_1 wdt:P103?OBJ_2.. SUBJ_1 wdt:P27?OBJ_3. } </s>',\n",
       "       'select?SUBJ_1 where {?SUBJ_1 wdt:P31 OBJ_2.?SUBJ_1 wdt:P2160?OBJ_3. } order by desc (?OBJ_3 ) limit NUM_VALUE_1 NUM_VALUE_1 </s>'],\n",
       "      dtype=object)"
      ]
     },
     "execution_count": 143,
     "metadata": {},
     "output_type": "execute_result"
    }
   ],
   "source": [
    "data['pred'][data['pred'] != data['target']].iloc[:10].values"
   ]
  },
  {
   "cell_type": "code",
   "execution_count": 82,
   "id": "1085d831",
   "metadata": {},
   "outputs": [
    {
     "data": {
      "text/plain": [
       "8.666666666666666"
      ]
     },
     "execution_count": 82,
     "metadata": {},
     "output_type": "execute_result"
    }
   ],
   "source": [
    "data['target'][data['pred'] == data['target']].apply(lambda x : len(x.split())).mean()"
   ]
  },
  {
   "cell_type": "code",
   "execution_count": 369,
   "id": "d51e6718",
   "metadata": {},
   "outputs": [],
   "source": [
    "with open('./datasets/SparQL/src-english_train_split.txt', 'r', encoding='utf8') as f:\n",
    "    src = f.read()\n",
    "with open('./datasets/SparQL/src-english_dev_split.txt', 'r', encoding='utf8') as f:\n",
    "    src_1 = f.read()\n",
    "with open('./datasets/SparQL/src-english_test_split.txt', 'r', encoding='utf8') as f:\n",
    "    src_2 = f.read()"
   ]
  },
  {
   "cell_type": "code",
   "execution_count": 284,
   "id": "e44910d3",
   "metadata": {},
   "outputs": [
    {
     "data": {
      "text/plain": [
       "33347"
      ]
     },
     "execution_count": 284,
     "metadata": {},
     "output_type": "execute_result"
    }
   ],
   "source": [
    "len(set(src.replace('\\n', ' ').replace('?', '').split()))"
   ]
  },
  {
   "cell_type": "code",
   "execution_count": 109,
   "id": "e8e46013",
   "metadata": {},
   "outputs": [
    {
     "data": {
      "text/plain": [
       "17699"
      ]
     },
     "execution_count": 109,
     "metadata": {},
     "output_type": "execute_result"
    }
   ],
   "source": [
    "len(set(src_1.replace('\\n', ' ').replace('?', '').split()))"
   ]
  },
  {
   "cell_type": "code",
   "execution_count": 110,
   "id": "30e43596",
   "metadata": {},
   "outputs": [
    {
     "data": {
      "text/plain": [
       "17677"
      ]
     },
     "execution_count": 110,
     "metadata": {},
     "output_type": "execute_result"
    }
   ],
   "source": [
    "len(set(src_2.replace('\\n', ' ').replace('?', '').split()))"
   ]
  },
  {
   "cell_type": "code",
   "execution_count": 111,
   "id": "cc80a72a",
   "metadata": {},
   "outputs": [
    {
     "data": {
      "text/plain": [
       "4733"
      ]
     },
     "execution_count": 111,
     "metadata": {},
     "output_type": "execute_result"
    }
   ],
   "source": [
    "len(set(src_1.replace('\\n', ' ').replace('?', '').split()) - set(src.replace('\\n', ' ').replace('?', '').split()))"
   ]
  },
  {
   "cell_type": "code",
   "execution_count": 88,
   "id": "70598bc4",
   "metadata": {},
   "outputs": [
    {
     "data": {
      "text/plain": [
       "4780"
      ]
     },
     "execution_count": 88,
     "metadata": {},
     "output_type": "execute_result"
    }
   ],
   "source": [
    "len(set(src_2.replace('\\n', ' ').replace('?', '').split()) - set(src.replace('\\n', ' ').replace('?', '').split()))"
   ]
  },
  {
   "cell_type": "code",
   "execution_count": null,
   "id": "2ea2c324",
   "metadata": {},
   "outputs": [],
   "source": [
    "# prints currently alive Tensors and Variables\n",
    "import torch\n",
    "import gc\n",
    "ll = list()\n",
    "for obj in gc.get_objects():\n",
    "    try:\n",
    "        if torch.is_tensor(obj) or (hasattr(obj, 'data') and torch.is_tensor(obj.data)):\n",
    "            ll.append((obj.dtype, obj.flatten().size()))\n",
    "    except:\n",
    "        pass\n",
    "print(sorted(ll, key=lambda x : x[1]))\n",
    "print(len(ll))\n",
    "print(set([i[0] for i in ll]))"
   ]
  },
  {
   "cell_type": "code",
   "execution_count": null,
   "id": "85438bf2",
   "metadata": {},
   "outputs": [],
   "source": [
    "# prints currently alive Tensors and Variables\n",
    "import torch\n",
    "import gc\n",
    "ll = list()\n",
    "for obj in gc.get_objects():\n",
    "    try:\n",
    "        if torch.is_tensor(obj) or (hasattr(obj, 'data') and torch.is_tensor(obj.data)) and obj.dtype == 'torch.float32':\n",
    "            print(obj.dtype, obj.flatten().size())\n",
    "            del obj\n",
    "    except:\n",
    "        pass\n",
    "print(sorted(ll, key=lambda x : x[1]))\n",
    "print(len(ll))\n",
    "print(set([i[0] for i in ll]))"
   ]
  }
 ],
 "metadata": {
  "kernelspec": {
   "display_name": "Python 3 (ipykernel)",
   "language": "python",
   "name": "python3"
  },
  "language_info": {
   "codemirror_mode": {
    "name": "ipython",
    "version": 3
   },
   "file_extension": ".py",
   "mimetype": "text/x-python",
   "name": "python",
   "nbconvert_exporter": "python",
   "pygments_lexer": "ipython3",
   "version": "3.10.9"
  }
 },
 "nbformat": 4,
 "nbformat_minor": 5
}
