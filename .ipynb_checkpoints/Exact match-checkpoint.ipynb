{
 "cells": [
  {
   "cell_type": "code",
   "execution_count": 34,
   "id": "a53009e9",
   "metadata": {},
   "outputs": [],
   "source": [
    "import numpy as np\n",
    "import pandas as pd\n",
    "import json"
   ]
  },
  {
   "cell_type": "code",
   "execution_count": 35,
   "id": "fe540f86",
   "metadata": {},
   "outputs": [],
   "source": [
    "with open('./checkpoint-path/ema_0.999_007000.pt.samples/seed105_step0.json', 'r') as json_file:\n",
    "    json_list = list(json_file)"
   ]
  },
  {
   "cell_type": "code",
   "execution_count": 36,
   "id": "f364cc9c",
   "metadata": {},
   "outputs": [],
   "source": [
    "data = pd.DataFrame({'pred': [json.loads(i)[\"recover\"] for i in json_list], 'target': [json.loads(i)[\"reference\"] for i in json_list], 'source': [json.loads(i)[\"source\"] for i in json_list]})"
   ]
  },
  {
   "cell_type": "code",
   "execution_count": 37,
   "id": "e5df4554",
   "metadata": {},
   "outputs": [
    {
     "data": {
      "text/plain": [
       "1568"
      ]
     },
     "execution_count": 37,
     "metadata": {},
     "output_type": "execute_result"
    }
   ],
   "source": [
    "len(data)"
   ]
  },
  {
   "cell_type": "code",
   "execution_count": 38,
   "id": "874ecc8e",
   "metadata": {},
   "outputs": [
    {
     "data": {
      "text/plain": [
       "0.2557397959183674"
      ]
     },
     "execution_count": 38,
     "metadata": {},
     "output_type": "execute_result"
    }
   ],
   "source": [
    "(data['pred'] == data['target']).mean()"
   ]
  },
  {
   "cell_type": "code",
   "execution_count": 39,
   "id": "009d2022",
   "metadata": {},
   "outputs": [
    {
     "data": {
      "text/plain": [
       "array(['Which ex tr as olar planet has the largest M s in i ?',\n",
       "       'Who is the W W E progr ams for production company of W W E',\n",
       "       'What are the ep ic son net which begin with the letter t am bu ka',\n",
       "       'What scholarly work g one before War and Peace ?',\n",
       "       'Tell me the academic college library with the largest collection .',\n",
       "       'Which member of G ord on S . Wood is the chair man ?',\n",
       "       \"What is the Library of Congress ' s collection or ex h ib ition size ?\",\n",
       "       'Is the number of speak ers of the A w ak ate k more than 21 . 6 ?',\n",
       "       'What is ne eded for s ail ing a ship ?',\n",
       "       'What was the pe tr oleum cons ump tion rate in 2007 ?'],\n",
       "      dtype=object)"
      ]
     },
     "execution_count": 39,
     "metadata": {},
     "output_type": "execute_result"
    }
   ],
   "source": [
    "data['source'][data['pred'] != data['target']].values[:10]"
   ]
  },
  {
   "cell_type": "code",
   "execution_count": 40,
   "id": "3e3e8747",
   "metadata": {},
   "outputs": [
    {
     "data": {
      "text/plain": [
       "array(['What was the award of T ron d heim received in 2008 ?',\n",
       "       'Who replaced Charles I as monarch of England ?',\n",
       "       'Did London twin with Ph nom Pen h ?',\n",
       "       'In which country was Ah m ad ib n Han b al born in the city of B ag h d ad ?',\n",
       "       'When was Bry an Adams nominated as J un o Award for Sing le of the Year ?',\n",
       "       'Hen ri Ber g son was nominated for what award on January 1st , 19 15 ?',\n",
       "       'When did the Republic of T art ar st an end when Ro st am Min ne x an ov was head of government ?',\n",
       "       'In what year did The ir ry Henry become a member of the France National Football team ?',\n",
       "       'What are the f ight ing which begin with the letter w',\n",
       "       'What was the number of inhabitants in K ok and in 197 0 ?'],\n",
       "      dtype=object)"
      ]
     },
     "execution_count": 40,
     "metadata": {},
     "output_type": "execute_result"
    }
   ],
   "source": [
    "data['source'][data['pred'] == data['target']].values[:10]"
   ]
  },
  {
   "cell_type": "code",
   "execution_count": null,
   "id": "1b5a7240",
   "metadata": {},
   "outputs": [],
   "source": []
  },
  {
   "cell_type": "code",
   "execution_count": null,
   "id": "eb657738",
   "metadata": {},
   "outputs": [],
   "source": []
  }
 ],
 "metadata": {
  "kernelspec": {
   "display_name": "Python 3 (ipykernel)",
   "language": "python",
   "name": "python3"
  },
  "language_info": {
   "codemirror_mode": {
    "name": "ipython",
    "version": 3
   },
   "file_extension": ".py",
   "mimetype": "text/x-python",
   "name": "python",
   "nbconvert_exporter": "python",
   "pygments_lexer": "ipython3",
   "version": "3.10.9"
  }
 },
 "nbformat": 4,
 "nbformat_minor": 5
}
